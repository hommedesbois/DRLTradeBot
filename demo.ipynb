{
 "cells": [
  {
   "cell_type": "markdown",
   "metadata": {},
   "source": [
    "## Imports"
   ]
  },
  {
   "cell_type": "code",
   "execution_count": null,
   "metadata": {},
   "outputs": [],
   "source": [
    "import os\n",
    "import numpy as np\n",
    "import pandas as pd\n",
    "from datetime import datetime, timedelta, date\n",
    "from pylab import plt, mpl\n",
    "import mplfinance as mpf\n",
    "plt.style.use('seaborn-v0_8-notebook')\n",
    "mpl.rcParams['font.family'] = 'serif'\n",
    "np.set_printoptions(precision=4, suppress=True)\n",
    "os.environ['PYTHONHASHSEED'] = '0'\n",
    "%config InlineBackend.figure_format = 'svg'\n",
    "os.environ['TF_CPP_MIN_LOG_LEVEL'] = '4' # can also be set in bashrc\n",
    "\n",
    "from predictor.env import Finance\n",
    "from predictor.agent import DQLAgent\n",
    "from predictor.utils import visualize, save_params"
   ]
  },
  {
   "cell_type": "code",
   "execution_count": null,
   "metadata": {},
   "outputs": [],
   "source": [
    "import warnings as w\n",
    "w.simplefilter('ignore')"
   ]
  },
  {
   "cell_type": "code",
   "execution_count": null,
   "metadata": {},
   "outputs": [],
   "source": [
    "#ticker = ['sinus_noise_std_1'] # must be given as a list, use sinus data to check model \n",
    "ticker = ['BTCUSDT']\n",
    "interval = '5m' # roughly 300 min per period\n",
    "train_days = 2\n",
    "test_days = 1\n",
    "#features = [('log-ret', 'z'), ('ratio_sma_20_40', 'z'), ('hour_otd', 'minmax'), ('volume', 'minmax')]\n",
    "#features = [('log-ret', 'z'), ('ratio_sma_12_24', 'z'), ('hour_otd', 'minmax')]\n",
    "#features = [('log-ret', 'z'), ('ratio_sma_20_40', 'z'), ('volume', 'minmax')]\n",
    "#features = [('log-ret', 'z'), ('ratio_sma_12_24', 'z')]\n",
    "#features = [('log-ret', 'z'), ('close_5_sma', 'z')]\n",
    "#features = [('log-ret', 'z'), ('close_12_sma', 'z'), ('close_24_sma', 'z')]\n",
    "#features = [('log-ret', 'z') , ('hour_otd', 'minmax')]\n",
    "features = [('log-ret', 'z')]\n",
    "\n",
    "\n",
    "#features = [('ratio_sma_12_24', 'z')]\n",
    "#features = [('candle_body', 'z'), ('upper_wick', 'z'), ('lower_wick', 'z')]\n",
    "\n",
    "lags = 10\n",
    "END_TEST = date.today() - timedelta(days=1) # data from today is not available\n",
    "START_TEST = END_TEST - timedelta(days=(test_days-1))\n",
    "END_TRAIN = START_TEST - timedelta(days=1)\n",
    "START_TRAIN = END_TRAIN - timedelta(days=(train_days-1)) # -1 because same date is one day already\n",
    "print(f\"Training period: {START_TRAIN} to {END_TRAIN}\")\n",
    "print(f\"Testing period: {START_TEST} to {END_TEST}\")"
   ]
  },
  {
   "cell_type": "code",
   "execution_count": null,
   "metadata": {},
   "outputs": [],
   "source": [
    "train_env = Finance(ticker, interval, features, lags, min_performance = 0.75, min_sharpe=0.4,\n",
    "                 start=START_TRAIN, end=END_TRAIN)\n",
    "train_env.seed(42)"
   ]
  },
  {
   "cell_type": "code",
   "execution_count": null,
   "metadata": {},
   "outputs": [],
   "source": [
    "train_env.raw.head()"
   ]
  },
  {
   "cell_type": "code",
   "execution_count": null,
   "metadata": {},
   "outputs": [],
   "source": [
    "train_env.data['close'].plot(figsize=(13,5))"
   ]
  },
  {
   "cell_type": "code",
   "execution_count": null,
   "metadata": {},
   "outputs": [],
   "source": [
    "test_env = Finance(ticker, interval, features,\n",
    "                 lags, min_performance=train_env.min_performance,\n",
    "                 start=START_TEST, end=END_TEST)"
   ]
  },
  {
   "cell_type": "code",
   "execution_count": null,
   "metadata": {},
   "outputs": [],
   "source": [
    "hu = max(lags, 24) # hidden_units\n",
    "lr = 0.0001 # learing_rate\n",
    "batch = True\n",
    "agent = DQLAgent(hu, lr, batch, train_env, test_env)\n",
    "print('Done')"
   ]
  },
  {
   "cell_type": "code",
   "execution_count": null,
   "metadata": {},
   "outputs": [],
   "source": [
    "agent.value_model.summary()"
   ]
  },
  {
   "cell_type": "code",
   "execution_count": null,
   "metadata": {},
   "outputs": [],
   "source": [
    "episodes = 50\n",
    "%time agent.learn(episodes)"
   ]
  },
  {
   "cell_type": "code",
   "execution_count": null,
   "metadata": {},
   "outputs": [],
   "source": [
    "# Create a figure and the first y-axis\n",
    "fig, ax1 = plt.subplots(figsize=(12, 5))\n",
    "\n",
    "# Data for the first y-axis\n",
    "x = range(1, len(agent.losses) + 1)\n",
    "#y = np.polyval(np.polyfit(x, agent.losses, deg=3), x)\n",
    "ax1.plot(agent.losses, 'bo--', label='loss')\n",
    "ax1.set_xlabel('episodes')\n",
    "ax1.set_ylabel('loss', color='blue')\n",
    "ax1.tick_params(axis='y', labelcolor='blue')\n",
    "\n",
    "# Create a second y-axis\n",
    "ax2 = ax1.twinx()\n",
    "\n",
    "# Data for the second y-axis\n",
    "ax2.plot(agent.performances, 'ro--', label='performance')\n",
    "ax2.set_ylabel('performance', color='red')\n",
    "ax2.tick_params(axis='y', labelcolor='red')\n",
    "\n",
    "plt.title('Loss and Performance on Training Data (with Exploration)')\n",
    "plt.show()"
   ]
  },
  {
   "cell_type": "code",
   "execution_count": null,
   "metadata": {},
   "outputs": [],
   "source": [
    "actions = []\n",
    "length = len(test_env.data) - test_env.lags\n",
    "\n",
    "for i in range(length):\n",
    "    state = test_env.reset(shift=i)\n",
    "    state = np.reshape(state, [1, test_env.lags,\n",
    "                                   test_env.n_features])\n",
    "    action = agent.value_model.predict(state, verbose=0)[0]\n",
    "    if i%10==0:\n",
    "        print(f'progress: {i:>4d}/{length:>4d}', end='\\r')\n",
    "    actions.append(np.argmax(action))\n",
    "\n",
    "data = pd.DataFrame({\n",
    "    'date' : test_env.data['date'].tail(length).reset_index(drop=True),\n",
    "    'close' : test_env.data['close'].tail(length).reset_index(drop=True),\n",
    "    'log-ret-ns': test_env.data['log-ret-no-scale'].tail(length).reset_index(drop=True),\n",
    "    'action': actions\n",
    "})\n",
    "data['action'].replace(0, -1, inplace=True)\n",
    "data['performance'] = (data['log-ret-ns'] * data['action']).cumsum().apply(lambda x: np.exp(x))\n",
    "# paramters to save \n",
    "buy_and_hold = (data['close'].iloc[-1] / data['close'].iloc[0] - 1) * 100\n",
    "perf_on_test = ((data['performance'].iloc[-1]-1) * 100) \n",
    "\n",
    "text = 'Buy-and-hold strategy: {:4.1f}% \\n'\n",
    "text += 'DRL strategy out of sample: {:4.1f}%'\n",
    "print(text.format(buy_and_hold, perf_on_test))"
   ]
  },
  {
   "cell_type": "code",
   "execution_count": null,
   "metadata": {},
   "outputs": [],
   "source": [
    "# Plot performance vs buy-and-hold strategy \n",
    "plt.figure(figsize=(12, 6))\n",
    "plt.plot(data['date'], data['performance'], label='Strategy')\n",
    "plt.plot(data['date'], data['close'].pct_change().apply(lambda x : x+1).cumprod(), label='Buy and Hold')\n",
    "plt.title('Strategy vs Buy and Hold')\n",
    "plt.xlabel('Time')\n",
    "plt.ylabel('Performance')\n",
    "plt.legend()\n",
    "plt.show()"
   ]
  },
  {
   "cell_type": "markdown",
   "metadata": {},
   "source": [
    "#### Visualize entry and exit points"
   ]
  },
  {
   "cell_type": "code",
   "execution_count": null,
   "metadata": {},
   "outputs": [],
   "source": [
    "#display figure\n",
    "chart = visualize(data)\n",
    "chart"
   ]
  },
  {
   "cell_type": "code",
   "execution_count": null,
   "metadata": {},
   "outputs": [],
   "source": [
    "# save figure\n",
    "figname = 'filename-goes-here.html'\n",
    "chart.save(figname)"
   ]
  },
  {
   "cell_type": "markdown",
   "metadata": {},
   "source": [
    "#### Save parameters to file"
   ]
  },
  {
   "cell_type": "code",
   "execution_count": null,
   "metadata": {},
   "outputs": [],
   "source": [
    "filename = 'filename-goes-here.csv'\n",
    "comment = 'add you comment here'\n",
    "# Append the parameters to the file\n",
    "save_params(filename, ticker, test_env.features, lags, episodes, lr, \n",
    "            agent.tau, agent.gamma, agent.epsilon_decay, buy_and_hold, perf_on_test, comment)"
   ]
  }
 ],
 "metadata": {
  "kernelspec": {
   "display_name": "tradebot",
   "language": "python",
   "name": "tradebot"
  },
  "language_info": {
   "codemirror_mode": {
    "name": "ipython",
    "version": 3
   },
   "file_extension": ".py",
   "mimetype": "text/x-python",
   "name": "python",
   "nbconvert_exporter": "python",
   "pygments_lexer": "ipython3",
   "version": "3.10.0"
  }
 },
 "nbformat": 4,
 "nbformat_minor": 4
}
